{
 "cells": [
  {
   "cell_type": "code",
   "execution_count": 1,
   "metadata": {},
   "outputs": [],
   "source": [
    "import pandas as pd\n",
    "import json"
   ]
  },
  {
   "cell_type": "code",
   "execution_count": 5,
   "metadata": {},
   "outputs": [
    {
     "name": "stdout",
     "output_type": "stream",
     "text": [
      "Arquivo JSON gerado: brasileirao_2021.json\n",
      "Arquivo JSON gerado: brasileirao_2022.json\n",
      "Arquivo JSON gerado: brasileirao_2023.json\n"
     ]
    }
   ],
   "source": [
    "import pandas as pd\n",
    "import json\n",
    "\n",
    "# Carregar o CSV\n",
    "csv_file = 'brasileirao_2021_2023.csv'  # Substitua pelo nome do seu arquivo CSV\n",
    "data = pd.read_csv(csv_file)\n",
    "\n",
    "# Inicializar dicionários para armazenar os dados formatados para cada ano\n",
    "games_2021 = {}\n",
    "games_2022 = {}\n",
    "games_2023 = {}\n",
    "\n",
    "# Loop para cada linha do CSV para montar os JSONs por ano\n",
    "for index, row in data.iterrows():\n",
    "    game_id = str(index + 1).zfill(3)  # ID do jogo com três dígitos\n",
    "    \n",
    "    # Extrair informações necessárias do CSV\n",
    "    year = int(row['ano'])\n",
    "    home_team = row['mandante']\n",
    "    away_team = row['visitante']\n",
    "    home_goals = int(row['gol_mandante_x'])\n",
    "    away_goals = int(row['gol_visitante_x'])\n",
    "    odd_home = row['Odd 1']\n",
    "    odd_X = row['Odd X']\n",
    "    odd_away = row['Odd 2']\n",
    "\n",
    "    \n",
    "    # Montar o formato do jogo para JSON de acordo com o ano\n",
    "    game_data = {\n",
    "        \"Home\": home_team,\n",
    "        \"Away\": away_team,\n",
    "        \"Result\": f\"{home_goals} X {away_goals}\",\n",
    "        \"Odd home\": odd_home,\n",
    "        \"Odd X\": odd_X,\n",
    "        \"Odd away\": odd_away\n",
    "    }\n",
    "    \n",
    "    if year == 2021:\n",
    "        games_2021[game_id] = game_data\n",
    "    elif year == 2022:\n",
    "        games_2022[game_id] = game_data\n",
    "    elif year == 2023:\n",
    "        games_2023[game_id] = game_data\n",
    "\n",
    "# Salvar cada ano em um arquivo JSON separado\n",
    "output_files = {\n",
    "    'brasileirao_2021.json': games_2021,\n",
    "    'brasileirao_2022.json': games_2022,\n",
    "    'brasileirao_2023.json': games_2023\n",
    "}\n",
    "\n",
    "for file_name, games_data in output_files.items():\n",
    "    with open(file_name, 'w') as f:\n",
    "        json.dump(games_data, f, indent=4)\n",
    "    print(f\"Arquivo JSON gerado: {file_name}\")\n"
   ]
  },
  {
   "cell_type": "code",
   "execution_count": 3,
   "metadata": {},
   "outputs": [
    {
     "name": "stdout",
     "output_type": "stream",
     "text": [
      "Arquivo JSON com probabilidades gerado: odds_probabilities.json\n"
     ]
    }
   ],
   "source": [
    "# Carregar o CSV\n",
    "csv_file = 'brasileirao_2021_2023.csv' # Substitua pelo nome do seu arquivo CSV\n",
    "data = pd.read_csv(csv_file)\n",
    "\n",
    "# Inicializar o dicionário para armazenar as probabilidades\n",
    "odds_json = {}\n",
    "\n",
    "# Função para converter Moneyline Odds para probabilidades\n",
    "def moneyline_to_probability(odd):\n",
    "    if odd > 0:\n",
    "        return 100 / (odd + 100)\n",
    "    else:\n",
    "        return -odd / (-odd + 100)\n",
    "\n",
    "# Loop para processar cada linha e calcular as probabilidades\n",
    "for index, row in data.iterrows():\n",
    "    game_id = str(index + 1).zfill(3)  # ID do jogo com três dígitos\n",
    "    \n",
    "    # Extrair as odds para mandante, empate e visitante\n",
    "    odd_home = row['Odd 1']\n",
    "    odd_draw = row['Odd X']\n",
    "    odd_away = row['Odd 2']\n",
    "    \n",
    "    # Calcular probabilidades usando Moneyline Odds\n",
    "    prob_home = moneyline_to_probability(odd_home)\n",
    "    prob_draw = moneyline_to_probability(odd_draw)\n",
    "    prob_away = moneyline_to_probability(odd_away)\n",
    "    \n",
    "    # Normalizar as probabilidades para que somem 1\n",
    "    total = prob_home + prob_draw + prob_away\n",
    "    prob_home /= total\n",
    "    prob_draw /= total\n",
    "    prob_away /= total\n",
    "    \n",
    "    # Montar o formato para JSON\n",
    "    odds_json[game_id] = {\n",
    "        \"Home\": prob_home,\n",
    "        \"Draw\": prob_draw,\n",
    "        \"Away\": prob_away\n",
    "    }\n",
    "\n",
    "# Salvar o JSON em um arquivo\n",
    "output_file = 'odds_probabilities.json'  # Nome do arquivo JSON de saída\n",
    "with open(output_file, 'w') as f:\n",
    "    json.dump(odds_json, f, indent=4)\n",
    "\n",
    "print(f\"Arquivo JSON com probabilidades gerado: {output_file}\")"
   ]
  }
 ],
 "metadata": {
  "kernelspec": {
   "display_name": "base",
   "language": "python",
   "name": "base"
  },
  "language_info": {
   "codemirror_mode": {
    "name": "ipython",
    "version": 3
   },
   "file_extension": ".py",
   "mimetype": "text/x-python",
   "name": "python",
   "nbconvert_exporter": "python",
   "pygments_lexer": "ipython3",
   "version": "3.11.9"
  }
 },
 "nbformat": 4,
 "nbformat_minor": 2
}
