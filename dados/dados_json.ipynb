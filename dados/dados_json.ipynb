{
 "cells": [
  {
   "cell_type": "code",
   "execution_count": 1,
   "metadata": {},
   "outputs": [],
   "source": [
    "import pandas as pd\n",
    "import json"
   ]
  },
  {
   "cell_type": "code",
   "execution_count": 2,
   "metadata": {},
   "outputs": [
    {
     "name": "stdout",
     "output_type": "stream",
     "text": [
      "Arquivo JSON gerado: brasileirao_2021_2023.json\n"
     ]
    }
   ],
   "source": [
    "# Carregar o CSV\n",
    "csv_file = 'brasileirao_2021_2023.csv'  # Substitua pelo nome do seu arquivo CSV\n",
    "data = pd.read_csv(csv_file)\n",
    "\n",
    "# Inicializar o dicionário para armazenar os dados formatados\n",
    "games_json = {}\n",
    "\n",
    "# Loop para cada linha do CSV para montar o JSON\n",
    "for index, row in data.iterrows():\n",
    "    game_id = str(index + 1).zfill(3)  # ID do jogo com três dígitos\n",
    "    \n",
    "    # Extrair informações necessárias do CSV\n",
    "    home_team = row['mandante']\n",
    "    away_team = row['visitante']\n",
    "    home_goals = int(row['gol_mandante_x'])\n",
    "    away_goals = int(row['gol_visitante_x'])\n",
    "    \n",
    "    # Montar o formato do jogo para JSON\n",
    "    games_json[game_id] = {\n",
    "        \"Home\": home_team,\n",
    "        \"Away\": away_team,\n",
    "        \"Result\": f\"{home_goals} X {away_goals}\"\n",
    "    }\n",
    "\n",
    "# Salvar o JSON em um arquivo\n",
    "output_file = 'brasileirao_2021_2023.json'  # Nome do arquivo JSON de saída\n",
    "with open(output_file, 'w') as f:\n",
    "    json.dump(games_json, f, indent=4)\n",
    "\n",
    "print(f\"Arquivo JSON gerado: {output_file}\")\n"
   ]
  },
  {
   "cell_type": "code",
   "execution_count": 3,
   "metadata": {},
   "outputs": [
    {
     "name": "stdout",
     "output_type": "stream",
     "text": [
      "Arquivo JSON com probabilidades gerado: odds_probabilities.json\n"
     ]
    }
   ],
   "source": [
    "# Carregar o CSV\n",
    "csv_file = 'brasileirao_2021_2023.csv' # Substitua pelo nome do seu arquivo CSV\n",
    "data = pd.read_csv(csv_file)\n",
    "\n",
    "# Inicializar o dicionário para armazenar as probabilidades\n",
    "odds_json = {}\n",
    "\n",
    "# Função para converter Moneyline Odds para probabilidades\n",
    "def moneyline_to_probability(odd):\n",
    "    if odd > 0:\n",
    "        return 100 / (odd + 100)\n",
    "    else:\n",
    "        return -odd / (-odd + 100)\n",
    "\n",
    "# Loop para processar cada linha e calcular as probabilidades\n",
    "for index, row in data.iterrows():\n",
    "    game_id = str(index + 1).zfill(3)  # ID do jogo com três dígitos\n",
    "    \n",
    "    # Extrair as odds para mandante, empate e visitante\n",
    "    odd_home = row['Odd 1']\n",
    "    odd_draw = row['Odd X']\n",
    "    odd_away = row['Odd 2']\n",
    "    \n",
    "    # Calcular probabilidades usando Moneyline Odds\n",
    "    prob_home = moneyline_to_probability(odd_home)\n",
    "    prob_draw = moneyline_to_probability(odd_draw)\n",
    "    prob_away = moneyline_to_probability(odd_away)\n",
    "    \n",
    "    # Normalizar as probabilidades para que somem 1\n",
    "    total = prob_home + prob_draw + prob_away\n",
    "    prob_home /= total\n",
    "    prob_draw /= total\n",
    "    prob_away /= total\n",
    "    \n",
    "    # Montar o formato para JSON\n",
    "    odds_json[game_id] = {\n",
    "        \"Home\": prob_home,\n",
    "        \"Draw\": prob_draw,\n",
    "        \"Away\": prob_away\n",
    "    }\n",
    "\n",
    "# Salvar o JSON em um arquivo\n",
    "output_file = 'odds_probabilities.json'  # Nome do arquivo JSON de saída\n",
    "with open(output_file, 'w') as f:\n",
    "    json.dump(odds_json, f, indent=4)\n",
    "\n",
    "print(f\"Arquivo JSON com probabilidades gerado: {output_file}\")"
   ]
  }
 ],
 "metadata": {
  "kernelspec": {
   "display_name": "base",
   "language": "python",
   "name": "base"
  },
  "language_info": {
   "codemirror_mode": {
    "name": "ipython",
    "version": 3
   },
   "file_extension": ".py",
   "mimetype": "text/x-python",
   "name": "python",
   "nbconvert_exporter": "python",
   "pygments_lexer": "ipython3",
   "version": "3.11.9"
  }
 },
 "nbformat": 4,
 "nbformat_minor": 2
}
