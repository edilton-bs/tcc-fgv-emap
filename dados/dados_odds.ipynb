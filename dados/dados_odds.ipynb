{
 "cells": [
  {
   "cell_type": "code",
   "execution_count": 23,
   "metadata": {},
   "outputs": [],
   "source": [
    "from selenium import webdriver\n",
    "from selenium.webdriver.common.by import By\n",
    "from selenium.webdriver.edge.service import Service\n",
    "from selenium.webdriver.edge.options import Options\n",
    "from selenium.webdriver.support.ui import WebDriverWait\n",
    "from selenium.webdriver.support import expected_conditions as EC\n",
    "from webdriver_manager.microsoft import EdgeChromiumDriverManager\n",
    "import time\n",
    "import pandas as pd"
   ]
  },
  {
   "cell_type": "code",
   "execution_count": 2,
   "metadata": {},
   "outputs": [],
   "source": [
    "# Configurações do Edge para rodar em modo headless\n",
    "options = Options()\n",
    "options.add_argument(\"--headless\")\n",
    "\n",
    "# Instalação e configuração do serviço Edge\n",
    "service = Service(EdgeChromiumDriverManager().install())\n",
    "driver = webdriver.Edge(options=options, service=service)\n"
   ]
  },
  {
   "cell_type": "code",
   "execution_count": 36,
   "metadata": {},
   "outputs": [],
   "source": [
    "def get_data(url, driver):\n",
    "    print(\"Extraindo dados de: \" + url)\n",
    "    # Extrair o ano da URL\n",
    "    year = url.split(\"serie-a-\")[-1].split(\"/results\")[0]  # Extrai o ano diretamente antes de \"/results\"\n",
    "\n",
    "    driver.get(url)\n",
    "    sleep(10)\n",
    "    \n",
    "    # Rolagem para o final da página para garantir que todos os elementos sejam carregados\n",
    "    driver.execute_script(\"window.scrollTo(0, document.body.scrollHeight);\")\n",
    "    sleep(10)  # Espera adicional para garantir que a página tenha carregado completamente após a rolagem\n",
    "\n",
    "    gameRows = driver.find_elements(By.XPATH, '//div[@class=\"group flex\"]')\n",
    "    rowData = []\n",
    "\n",
    "    # Adiciona o ano como primeira coluna\n",
    "    for row in gameRows:\n",
    "        row_content = row.text.split(\"\\n\")\n",
    "        rowData.append([year] + row_content)\n",
    "\n",
    "    return rowData"
   ]
  },
  {
   "cell_type": "code",
   "execution_count": 43,
   "metadata": {},
   "outputs": [
    {
     "name": "stdout",
     "output_type": "stream",
     "text": [
      "Extraindo dados de: https://www.oddsportal.com/football/brazil/serie-a-2021/results/#/page/1/\n",
      "Extraindo dados de: https://www.oddsportal.com/football/brazil/serie-a-2021/results/#/page/2/\n",
      "Extraindo dados de: https://www.oddsportal.com/football/brazil/serie-a-2021/results/#/page/3/\n",
      "Extraindo dados de: https://www.oddsportal.com/football/brazil/serie-a-2021/results/#/page/4/\n",
      "Extraindo dados de: https://www.oddsportal.com/football/brazil/serie-a-2021/results/#/page/5/\n",
      "Extraindo dados de: https://www.oddsportal.com/football/brazil/serie-a-2021/results/#/page/6/\n",
      "Extraindo dados de: https://www.oddsportal.com/football/brazil/serie-a-2021/results/#/page/7/\n",
      "Extraindo dados de: https://www.oddsportal.com/football/brazil/serie-a-2021/results/#/page/8/\n",
      "Extraindo dados de: https://www.oddsportal.com/football/brazil/serie-a-2022/results/#/page/1/\n",
      "Extraindo dados de: https://www.oddsportal.com/football/brazil/serie-a-2022/results/#/page/2/\n",
      "Extraindo dados de: https://www.oddsportal.com/football/brazil/serie-a-2022/results/#/page/3/\n",
      "Extraindo dados de: https://www.oddsportal.com/football/brazil/serie-a-2022/results/#/page/4/\n",
      "Extraindo dados de: https://www.oddsportal.com/football/brazil/serie-a-2022/results/#/page/5/\n",
      "Extraindo dados de: https://www.oddsportal.com/football/brazil/serie-a-2022/results/#/page/6/\n",
      "Extraindo dados de: https://www.oddsportal.com/football/brazil/serie-a-2022/results/#/page/7/\n",
      "Extraindo dados de: https://www.oddsportal.com/football/brazil/serie-a-2022/results/#/page/8/\n",
      "Extraindo dados de: https://www.oddsportal.com/football/brazil/serie-a-2023/results/#/page/1/\n",
      "Extraindo dados de: https://www.oddsportal.com/football/brazil/serie-a-2023/results/#/page/2/\n",
      "Extraindo dados de: https://www.oddsportal.com/football/brazil/serie-a-2023/results/#/page/3/\n",
      "Extraindo dados de: https://www.oddsportal.com/football/brazil/serie-a-2023/results/#/page/4/\n",
      "Extraindo dados de: https://www.oddsportal.com/football/brazil/serie-a-2023/results/#/page/5/\n",
      "Extraindo dados de: https://www.oddsportal.com/football/brazil/serie-a-2023/results/#/page/6/\n",
      "Extraindo dados de: https://www.oddsportal.com/football/brazil/serie-a-2023/results/#/page/7/\n",
      "Extraindo dados de: https://www.oddsportal.com/football/brazil/serie-a-2023/results/#/page/8/\n"
     ]
    }
   ],
   "source": [
    "def get_all_data(years, pages):\n",
    "    base_url = \"https://www.oddsportal.com/football/brazil/serie-a-{year}/results/#/page/{page}/\"\n",
    "    all_data = []\n",
    "\n",
    "    for year in years:\n",
    "        for page in range(1, pages + 1):\n",
    "           driver = webdriver.Edge(options=options, service=service)\n",
    "           url = base_url.format(year=year, page=page)\n",
    "           data = get_data(url, driver)\n",
    "           all_data.extend(data)\n",
    "           driver.quit()  # Fechar o navegador após terminar a extração\n",
    "\n",
    "    return all_data\n",
    "\n",
    "# Anos a serem coletados\n",
    "years = [2021, 2022, 2023]\n",
    "# Número de páginas por ano\n",
    "pages = 8\n",
    "\n",
    "# Coleta os dados\n",
    "collected_data = get_all_data(years, pages)\n"
   ]
  },
  {
   "cell_type": "code",
   "execution_count": 52,
   "metadata": {},
   "outputs": [
    {
     "name": "stdout",
     "output_type": "stream",
     "text": [
      "      Year   Time    Home Team Home Score Away Score       Away Team Odd 1  \\\n",
      "0     2021  21:30   America MG          2          0       Sao Paulo  +100   \n",
      "1     2021  21:30  Atletico GO          2          0     Flamengo RJ  -139   \n",
      "2     2021  21:30   Bragantino          1          0   Internacional  -111   \n",
      "3     2021  21:30    Juventude          1          0     Corinthians  +125   \n",
      "4     2021  21:30   Fluminense          3          0  Chapecoense-SC  -526   \n",
      "...    ...    ...          ...        ...        ...             ...   ...   \n",
      "1135  2023  18:30  Botafogo RJ          2          1       Sao Paulo  +141   \n",
      "1136  2023  18:30   Bragantino          2          1           Bahia  -118   \n",
      "1137  2023  18:30    Fortaleza          1          1   Internacional  -109   \n",
      "1138  2023  16:00   America MG          0          3      Fluminense  +152   \n",
      "1139  2023  16:00    Palmeiras          2          1          Cuiaba  -278   \n",
      "\n",
      "     Odd X  Odd 2  \n",
      "0     +231   +298  \n",
      "1     +289   +357  \n",
      "2     +265   +301  \n",
      "3     +210   +252  \n",
      "4     +562  +1482  \n",
      "...    ...    ...  \n",
      "1135  +210   +220  \n",
      "1136  +264   +330  \n",
      "1137  +252   +315  \n",
      "1138  +229   +188  \n",
      "1139  +408   +758  \n",
      "\n",
      "[1140 rows x 9 columns]\n"
     ]
    }
   ],
   "source": [
    "# Criar um DataFrame a partir da lista\n",
    "df = pd.DataFrame(collected_data, columns=['Year', 'Time', 'Home Team', 'Home Score', 'vs', 'Away Score', 'Away Team', 'Odd 1', 'Odd X', 'Odd 2', 'Bookmakers'])\n",
    "\n",
    "# Limpar colunas desnecessárias\n",
    "df.drop(columns=['vs', 'Bookmakers'], inplace=True)\n",
    "\n",
    "# Salvar o DataFrame em um arquivo csv\n",
    "df.to_csv('brasileirao_odds.csv', index=False)\n",
    "# Salvar o DataFrame em um arquivo excel\n",
    "df.to_excel('brasileirao_odds.xlsx', index=False)\n",
    "\n",
    "print(df)"
   ]
  },
  {
   "cell_type": "code",
   "execution_count": 53,
   "metadata": {},
   "outputs": [
    {
     "name": "stdout",
     "output_type": "stream",
     "text": [
      "Year          380\n",
      "Time          380\n",
      "Home Team     380\n",
      "Home Score    380\n",
      "Away Score    380\n",
      "Away Team     380\n",
      "Odd 1         380\n",
      "Odd X         380\n",
      "Odd 2         380\n",
      "dtype: int64\n"
     ]
    }
   ],
   "source": [
    "# contando o numero de dados para year = 2021\n",
    "print(df[df['Year'] == '2021'].count())"
   ]
  },
  {
   "cell_type": "code",
   "execution_count": 54,
   "metadata": {},
   "outputs": [
    {
     "name": "stdout",
     "output_type": "stream",
     "text": [
      "Year          0\n",
      "Time          0\n",
      "Home Team     0\n",
      "Home Score    0\n",
      "Away Score    0\n",
      "Away Team     0\n",
      "Odd 1         0\n",
      "Odd X         0\n",
      "Odd 2         0\n",
      "dtype: int64\n"
     ]
    }
   ],
   "source": [
    "# verfica se tem algum valor nulo\n",
    "print(df.isnull().sum())"
   ]
  },
  {
   "cell_type": "code",
   "execution_count": 55,
   "metadata": {},
   "outputs": [
    {
     "name": "stdout",
     "output_type": "stream",
     "text": [
      "0\n"
     ]
    }
   ],
   "source": [
    "# verifica se tem algum valor duplicado\n",
    "print(df.duplicated().sum())"
   ]
  }
 ],
 "metadata": {
  "kernelspec": {
   "display_name": "base",
   "language": "python",
   "name": "base"
  },
  "language_info": {
   "codemirror_mode": {
    "name": "ipython",
    "version": 3
   },
   "file_extension": ".py",
   "mimetype": "text/x-python",
   "name": "python",
   "nbconvert_exporter": "python",
   "pygments_lexer": "ipython3",
   "version": "3.11.9"
  }
 },
 "nbformat": 4,
 "nbformat_minor": 2
}
