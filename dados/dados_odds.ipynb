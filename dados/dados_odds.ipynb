{
 "cells": [
  {
   "cell_type": "code",
   "execution_count": 2,
   "metadata": {},
   "outputs": [],
   "source": [
    "from selenium import webdriver\n",
    "from selenium.webdriver.common.by import By\n",
    "from selenium.webdriver.edge.service import Service\n",
    "from selenium.webdriver.edge.options import Options\n",
    "from webdriver_manager.microsoft import EdgeChromiumDriverManager\n",
    "from time import sleep\n",
    "import pandas as pd"
   ]
  },
  {
   "cell_type": "code",
   "execution_count": 5,
   "metadata": {},
   "outputs": [],
   "source": [
    "# Configurações do Edge para rodar em modo headless\n",
    "options = Options()\n",
    "options.add_argument(\"--headless\")\n",
    "\n",
    "# Instalação e configuração do serviço Edge\n",
    "service = Service(EdgeChromiumDriverManager().install())\n",
    "driver = webdriver.Edge(options=options, service=service)\n",
    "\n",
    "def get_data(url):\n",
    "    # Extrair o ano da URL\n",
    "    year = url.split(\"serie-a-\")[-1].split(\"/results\")[0]  # Extrai o ano diretamente antes de \"/results\"\n",
    "\n",
    "    driver.get(url)\n",
    "    sleep(10)\n",
    "    \n",
    "    # Rolagem para o final da página para garantir que todos os elementos sejam carregados\n",
    "    driver.execute_script(\"window.scrollTo(0, document.body.scrollHeight);\")\n",
    "    sleep(10)  # Espera adicional para garantir que a página tenha carregado completamente após a rolagem\n",
    "\n",
    "    gameRows = driver.find_elements(By.XPATH, '//div[@class=\"group flex\"]')\n",
    "    rowData = []\n",
    "\n",
    "    # Adiciona o ano como primeira coluna\n",
    "    for row in gameRows:\n",
    "        row_content = row.text.split(\"\\n\")\n",
    "        rowData.append([year] + row_content)\n",
    "\n",
    "    return rowData\n"
   ]
  },
  {
   "cell_type": "code",
   "execution_count": 7,
   "metadata": {},
   "outputs": [],
   "source": [
    "def get_all_data(years, pages):\n",
    "    base_url = \"https://www.oddsportal.com/football/brazil/serie-a-{year}/results/#/page/{page}/\"\n",
    "    all_data = []\n",
    "\n",
    "    for year in years:\n",
    "        for page in range(1, pages + 1):\n",
    "            url = base_url.format(year=year, page=page)\n",
    "            data = get_data(url)\n",
    "            all_data.extend(data)\n",
    "\n",
    "    return all_data\n",
    "\n",
    "# Anos a serem coletados\n",
    "years = [2021, 2022, 2023]\n",
    "# Número de páginas por ano\n",
    "pages = 8\n",
    "\n",
    "# Coleta os dados\n",
    "collected_data = get_all_data(years, pages)\n"
   ]
  },
  {
   "cell_type": "code",
   "execution_count": 8,
   "metadata": {},
   "outputs": [
    {
     "name": "stdout",
     "output_type": "stream",
     "text": [
      "      Year   Time    Home Team Home Score Away Score       Away Team Odd 1  \\\n",
      "0     2021  21:30   America MG          2          0       Sao Paulo  2.00   \n",
      "1     2021  21:30  Atletico GO          2          0     Flamengo RJ  1.72   \n",
      "2     2021  21:30   Bragantino          1          0   Internacional  1.90   \n",
      "3     2021  21:30    Juventude          1          0     Corinthians  2.25   \n",
      "4     2021  21:30   Fluminense          3          0  Chapecoense-SC  1.19   \n",
      "...    ...    ...          ...        ...        ...             ...   ...   \n",
      "1155  2023  18:30  Atletico-MG          2          1           Goias  1.57   \n",
      "1156  2023  18:30        Bahia          1          1    Athletico-PR  2.30   \n",
      "1157  2023  18:30       Cuiaba          2          1       Fortaleza  2.77   \n",
      "1158  2023  18:30       Santos          0          0       Sao Paulo  2.68   \n",
      "1159  2023  18:30        Vasco          2          1      America MG  1.48   \n",
      "\n",
      "     Odd X  Odd 2  \n",
      "0     3.32   3.98  \n",
      "1     3.89   4.57  \n",
      "2     3.65   4.01  \n",
      "3     3.10   3.52  \n",
      "4     6.62  15.82  \n",
      "...    ...    ...  \n",
      "1155  3.86   6.50  \n",
      "1156  3.27   3.23  \n",
      "1157  2.84   2.96  \n",
      "1158  3.01   2.88  \n",
      "1159  4.33   7.06  \n",
      "\n",
      "[1160 rows x 9 columns]\n"
     ]
    }
   ],
   "source": [
    "# Criar um DataFrame a partir da lista\n",
    "df = pd.DataFrame(collected_data, columns=['Year', 'Time', 'Home Team', 'Home Score', 'vs', 'Away Score', 'Away Team', 'Odd 1', 'Odd X', 'Odd 2', 'Bookmakers'])\n",
    "\n",
    "# Limpar colunas desnecessárias\n",
    "df.drop(columns=['vs', 'Bookmakers'], inplace=True)\n",
    "\n",
    "# Salvar o DataFrame em um arquivo Excel\n",
    "df.to_excel('brasileirao_odds.xlsx', index=False)\n",
    "\n",
    "print(df)"
   ]
  },
  {
   "cell_type": "code",
   "execution_count": 11,
   "metadata": {},
   "outputs": [
    {
     "name": "stdout",
     "output_type": "stream",
     "text": [
      "Year          400\n",
      "Time          400\n",
      "Home Team     400\n",
      "Home Score    400\n",
      "Away Score    400\n",
      "Away Team     400\n",
      "Odd 1         400\n",
      "Odd X         400\n",
      "Odd 2         400\n",
      "dtype: int64\n"
     ]
    }
   ],
   "source": [
    "# contando o numero de dados para year = 2021\n",
    "print(df[df['Year'] == '2023'].count())"
   ]
  },
  {
   "cell_type": "code",
   "execution_count": 13,
   "metadata": {},
   "outputs": [],
   "source": [
    "base_url = \"https://www.oddsportal.com/football/brazil/serie-a-{year}/results/#/page/{page}/\"\n",
    "\n",
    "year = 2022\n",
    "pages = 8\n",
    "\n",
    "data2022 = []\n",
    "\n",
    "for page in range(1, pages + 1):\n",
    "            url = base_url.format(year=year, page=page)\n",
    "            data = get_data(url)\n",
    "            data2022.extend(data)\n"
   ]
  },
  {
   "cell_type": "code",
   "execution_count": 15,
   "metadata": {},
   "outputs": [
    {
     "data": {
      "text/html": [
       "<div>\n",
       "<style scoped>\n",
       "    .dataframe tbody tr th:only-of-type {\n",
       "        vertical-align: middle;\n",
       "    }\n",
       "\n",
       "    .dataframe tbody tr th {\n",
       "        vertical-align: top;\n",
       "    }\n",
       "\n",
       "    .dataframe thead th {\n",
       "        text-align: right;\n",
       "    }\n",
       "</style>\n",
       "<table border=\"1\" class=\"dataframe\">\n",
       "  <thead>\n",
       "    <tr style=\"text-align: right;\">\n",
       "      <th></th>\n",
       "      <th>Year</th>\n",
       "      <th>Time</th>\n",
       "      <th>Home Team</th>\n",
       "      <th>Home Score</th>\n",
       "      <th>Away Score</th>\n",
       "      <th>Away Team</th>\n",
       "      <th>Odd 1</th>\n",
       "      <th>Odd X</th>\n",
       "      <th>Odd 2</th>\n",
       "    </tr>\n",
       "  </thead>\n",
       "  <tbody>\n",
       "    <tr>\n",
       "      <th>0</th>\n",
       "      <td>2022</td>\n",
       "      <td>16:00</td>\n",
       "      <td>America MG</td>\n",
       "      <td>1</td>\n",
       "      <td>1</td>\n",
       "      <td>Atletico GO</td>\n",
       "      <td>1.59</td>\n",
       "      <td>4.30</td>\n",
       "      <td>5.21</td>\n",
       "    </tr>\n",
       "    <tr>\n",
       "      <th>1</th>\n",
       "      <td>2022</td>\n",
       "      <td>16:00</td>\n",
       "      <td>Athletico-PR</td>\n",
       "      <td>3</td>\n",
       "      <td>0</td>\n",
       "      <td>Botafogo RJ</td>\n",
       "      <td>2.18</td>\n",
       "      <td>3.27</td>\n",
       "      <td>3.45</td>\n",
       "    </tr>\n",
       "    <tr>\n",
       "      <th>2</th>\n",
       "      <td>2022</td>\n",
       "      <td>16:00</td>\n",
       "      <td>Bragantino</td>\n",
       "      <td>0</td>\n",
       "      <td>1</td>\n",
       "      <td>Fluminense</td>\n",
       "      <td>2.44</td>\n",
       "      <td>3.53</td>\n",
       "      <td>2.79</td>\n",
       "    </tr>\n",
       "    <tr>\n",
       "      <th>3</th>\n",
       "      <td>2022</td>\n",
       "      <td>16:00</td>\n",
       "      <td>Ceara</td>\n",
       "      <td>4</td>\n",
       "      <td>1</td>\n",
       "      <td>Juventude</td>\n",
       "      <td>1.67</td>\n",
       "      <td>3.89</td>\n",
       "      <td>5.07</td>\n",
       "    </tr>\n",
       "    <tr>\n",
       "      <th>4</th>\n",
       "      <td>2022</td>\n",
       "      <td>16:00</td>\n",
       "      <td>Corinthians</td>\n",
       "      <td>0</td>\n",
       "      <td>1</td>\n",
       "      <td>Atletico-MG</td>\n",
       "      <td>3.05</td>\n",
       "      <td>3.11</td>\n",
       "      <td>2.48</td>\n",
       "    </tr>\n",
       "  </tbody>\n",
       "</table>\n",
       "</div>"
      ],
      "text/plain": [
       "   Year   Time     Home Team Home Score Away Score    Away Team Odd 1 Odd X  \\\n",
       "0  2022  16:00    America MG          1          1  Atletico GO  1.59  4.30   \n",
       "1  2022  16:00  Athletico-PR          3          0  Botafogo RJ  2.18  3.27   \n",
       "2  2022  16:00    Bragantino          0          1   Fluminense  2.44  3.53   \n",
       "3  2022  16:00         Ceara          4          1    Juventude  1.67  3.89   \n",
       "4  2022  16:00   Corinthians          0          1  Atletico-MG  3.05  3.11   \n",
       "\n",
       "  Odd 2  \n",
       "0  5.21  \n",
       "1  3.45  \n",
       "2  2.79  \n",
       "3  5.07  \n",
       "4  2.48  "
      ]
     },
     "execution_count": 15,
     "metadata": {},
     "output_type": "execute_result"
    }
   ],
   "source": [
    "df22 = pd.DataFrame(data2022, columns=['Year', 'Time', 'Home Team', 'Home Score', 'vs', 'Away Score', 'Away Team', 'Odd 1', 'Odd X', 'Odd 2', 'Bookmakers'])\n",
    "\n",
    "df22.drop(columns=['vs', 'Bookmakers'], inplace=True)\n",
    "\n",
    "df22.head()"
   ]
  },
  {
   "cell_type": "code",
   "execution_count": 23,
   "metadata": {},
   "outputs": [],
   "source": [
    "# Filtrar para remover as linhas do ano 2022\n",
    "df_filtered = df[df['Year'] != '2022']\n",
    "\n",
    "# Concatenar df_filtered com df22 para obter os dados completos\n",
    "df_final = pd.concat([df_filtered, df22], ignore_index=True)\n"
   ]
  },
  {
   "cell_type": "code",
   "execution_count": 25,
   "metadata": {},
   "outputs": [
    {
     "name": "stdout",
     "output_type": "stream",
     "text": [
      "Year          400\n",
      "Time          400\n",
      "Home Team     400\n",
      "Home Score    400\n",
      "Away Score    400\n",
      "Away Team     400\n",
      "Odd 1         400\n",
      "Odd X         400\n",
      "Odd 2         400\n",
      "dtype: int64\n"
     ]
    }
   ],
   "source": [
    "# contando o numero de dados para year = 2021\n",
    "print(df_final[df_final['Year'] == '2022'].count())"
   ]
  },
  {
   "cell_type": "code",
   "execution_count": 26,
   "metadata": {},
   "outputs": [],
   "source": [
    "# Salvar o DataFrame em um arquivo Excel\n",
    "df.to_excel('brasileirao_odds.xlsx', index=False)\n",
    "\n",
    "# salvar como csv\n",
    "df.to_csv('brasileirao_odds.csv', index=False)"
   ]
  }
 ],
 "metadata": {
  "kernelspec": {
   "display_name": "base",
   "language": "python",
   "name": "base"
  },
  "language_info": {
   "codemirror_mode": {
    "name": "ipython",
    "version": 3
   },
   "file_extension": ".py",
   "mimetype": "text/x-python",
   "name": "python",
   "nbconvert_exporter": "python",
   "pygments_lexer": "ipython3",
   "version": "3.11.9"
  }
 },
 "nbformat": 4,
 "nbformat_minor": 2
}
